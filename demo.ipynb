{
 "cells": [
  {
   "cell_type": "code",
   "execution_count": 1,
   "metadata": {
    "collapsed": true
   },
   "outputs": [],
   "source": [
    "import func\n",
    "from neurons import Neurons\n",
    "\n",
    "import json\n",
    "import numpy as np\n",
    "import matplotlib.pyplot as plt\n",
    "%matplotlib inline"
   ]
  },
  {
   "cell_type": "markdown",
   "metadata": {},
   "source": [
    "## data1"
   ]
  },
  {
   "cell_type": "code",
   "execution_count": 2,
   "metadata": {
    "collapsed": true
   },
   "outputs": [],
   "source": [
    "with open(\"../data1/config.json\") as config_file:    \n",
    "    par = json.load(config_file)    \n",
    "\n",
    "X = np.load(par['trainInputPath'] + '.npy')\n",
    "Y = np.load(par['trainOutputPath'] + '.npy')\n",
    "X2 = np.load(par['testInputPath'] + '.npy')\n",
    "Y2 = np.load(par['testOutputPath'] + '.npy')\n",
    "\n",
    "f = par['funcName']\n",
    "model = Neurons(f = getattr(func, f), df = getattr(func, 'd' + f))"
   ]
  },
  {
   "cell_type": "code",
   "execution_count": 3,
   "metadata": {
    "collapsed": false
   },
   "outputs": [
    {
     "data": {
      "text/plain": [
       "'Reached the maximal iteration number.'"
      ]
     },
     "execution_count": 3,
     "metadata": {},
     "output_type": "execute_result"
    }
   ],
   "source": [
    "model.fit(X, Y, **par)"
   ]
  },
  {
   "cell_type": "code",
   "execution_count": 4,
   "metadata": {
    "collapsed": false
   },
   "outputs": [
    {
     "data": {
      "text/plain": [
       "0.014261519670220225"
      ]
     },
     "execution_count": 4,
     "metadata": {},
     "output_type": "execute_result"
    }
   ],
   "source": [
    "model.rSquared(X, Y)"
   ]
  },
  {
   "cell_type": "code",
   "execution_count": 5,
   "metadata": {
    "collapsed": false
   },
   "outputs": [
    {
     "data": {
      "text/plain": [
       "array([[-0.38274586, -1.46355355],\n",
       "       [-0.8208884 , -1.14461491],\n",
       "       [-1.08183025, -1.08102718],\n",
       "       ..., \n",
       "       [-0.95468181, -1.14386514],\n",
       "       [-0.88226172, -1.04374523],\n",
       "       [-0.90332608, -1.06699884]])"
      ]
     },
     "execution_count": 5,
     "metadata": {},
     "output_type": "execute_result"
    }
   ],
   "source": [
    "model.predict(X2)"
   ]
  },
  {
   "cell_type": "code",
   "execution_count": 6,
   "metadata": {
    "collapsed": false
   },
   "outputs": [
    {
     "data": {
      "text/plain": [
       "0.01325718320155406"
      ]
     },
     "execution_count": 6,
     "metadata": {},
     "output_type": "execute_result"
    }
   ],
   "source": [
    "model.rSquared(X2, Y2)"
   ]
  },
  {
   "cell_type": "markdown",
   "metadata": {},
   "source": [
    "## data2"
   ]
  },
  {
   "cell_type": "code",
   "execution_count": 7,
   "metadata": {
    "collapsed": true
   },
   "outputs": [],
   "source": [
    "with open(\"../data2/config.json\") as config_file:    \n",
    "    par = json.load(config_file)    \n",
    "\n",
    "X = np.load(par['trainInputPath'] + '.npy')\n",
    "Y = np.load(par['trainOutputPath'] + '.npy')\n",
    "X2 = np.load(par['testInputPath'] + '.npy')\n",
    "Y2 = np.load(par['testOutputPath'] + '.npy')\n",
    "\n",
    "f = par['funcName']\n",
    "model = Neurons(f = getattr(func, f), df = getattr(func, 'd' + f))"
   ]
  },
  {
   "cell_type": "code",
   "execution_count": 8,
   "metadata": {
    "collapsed": false
   },
   "outputs": [
    {
     "name": "stdout",
     "output_type": "stream",
     "text": [
      "Score:  2003.58948381\n",
      "Score:  361.293849755\n",
      "Score:  231.10090384\n",
      "Score:  171.276057116\n",
      "Score:  134.363674946\n",
      "Score:  108.074531019\n",
      "Score:  88.0100822957\n",
      "Score:  72.0810059842\n",
      "Score:  59.266229171\n",
      "Score:  48.9178485106\n",
      "Score:  40.8077381304\n"
     ]
    },
    {
     "data": {
      "text/plain": [
       "'Reached the maximal iteration number.'"
      ]
     },
     "execution_count": 8,
     "metadata": {},
     "output_type": "execute_result"
    }
   ],
   "source": [
    "model.fit(X, Y, verbose=True, **par)"
   ]
  },
  {
   "cell_type": "code",
   "execution_count": 9,
   "metadata": {
    "collapsed": false
   },
   "outputs": [
    {
     "data": {
      "text/plain": [
       "0.029540432404481915"
      ]
     },
     "execution_count": 9,
     "metadata": {},
     "output_type": "execute_result"
    }
   ],
   "source": [
    "model.rSquared(X, Y)"
   ]
  },
  {
   "cell_type": "code",
   "execution_count": 10,
   "metadata": {
    "collapsed": false
   },
   "outputs": [
    {
     "data": {
      "text/plain": [
       "0.24861356302387944"
      ]
     },
     "execution_count": 10,
     "metadata": {},
     "output_type": "execute_result"
    }
   ],
   "source": [
    "model.rSquared(X2, Y2)"
   ]
  },
  {
   "cell_type": "markdown",
   "metadata": {},
   "source": [
    "## data3"
   ]
  },
  {
   "cell_type": "code",
   "execution_count": 11,
   "metadata": {
    "collapsed": true
   },
   "outputs": [],
   "source": [
    "with open(\"../data3/config.json\") as config_file:    \n",
    "    par = json.load(config_file)    \n",
    "\n",
    "X = np.load(par['trainInputPath'] + '.npy')\n",
    "Y = np.load(par['trainOutputPath'] + '.npy')\n",
    "X2 = np.load(par['testInputPath'] + '.npy')\n",
    "Y2 = np.load(par['testOutputPath'] + '.npy')\n",
    "\n",
    "f = par['funcName']\n",
    "model = Neurons(f = getattr(func, f), df = getattr(func, 'd' + f))"
   ]
  },
  {
   "cell_type": "code",
   "execution_count": 12,
   "metadata": {
    "collapsed": false
   },
   "outputs": [],
   "source": [
    "T = 10\n",
    "a = np.zeros(T)\n",
    "b = np.zeros(T)\n",
    "for i in range(T):\n",
    "    model.fit(X, Y, **par)\n",
    "    a[i] = model.rSquared(X, Y)\n",
    "    b[i] = model.rSquared(X2, Y2)"
   ]
  },
  {
   "cell_type": "code",
   "execution_count": 13,
   "metadata": {
    "collapsed": false
   },
   "outputs": [
    {
     "data": {
      "text/plain": [
       "<matplotlib.legend.Legend at 0x7f00be611f28>"
      ]
     },
     "execution_count": 13,
     "metadata": {},
     "output_type": "execute_result"
    },
    {
     "data": {
      "image/png": "[encoded data removed]",
      "text/plain": [
       "<matplotlib.figure.Figure at 0x7f00828335f8>"
      ]
     },
     "metadata": {},
     "output_type": "display_data"
    }
   ],
   "source": [
    "plt.plot(a, label='train')\n",
    "plt.plot(b, label='test')\n",
    "plt.legend()"
   ]
  },
  {
   "cell_type": "code",
   "execution_count": null,
   "metadata": {
    "collapsed": true
   },
   "outputs": [],
   "source": []
  }
 ],
 "metadata": {
  "kernelspec": {
   "display_name": "Python 3",
   "language": "python",
   "name": "python3"
  },
  "language_info": {
   "codemirror_mode": {
    "name": "ipython",
    "version": 3
   },
   "file_extension": ".py",
   "mimetype": "text/x-python",
   "name": "python",
   "nbconvert_exporter": "python",
   "pygments_lexer": "ipython3",
   "version": "3.5.3"
  }
 },
 "nbformat": 4,
 "nbformat_minor": 0
}
